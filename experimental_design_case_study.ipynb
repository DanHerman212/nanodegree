{
 "cells": [
  {
   "cell_type": "markdown",
   "metadata": {},
   "source": [
    "### A/B testing case study"
   ]
  },
  {
   "cell_type": "markdown",
   "metadata": {},
   "source": [
    "Recent history shows that there are about 3250 unique visitors per day, with slightly more visitors on Friday through Monday than the rest of the week. There are about 520 software downloads per day (a .16 rate) and about 65 licenses purchased each day (a .02 rate). In an ideal case, both the download rate and license purchase rate should increase with the new homepage; a statistically significant negative change should be a sign to not deploy the homepage change. However, if only one of our metrics shows a statistically significant positive change we should be happy enough to deploy the new homepage."
   ]
  },
  {
   "cell_type": "markdown",
   "metadata": {},
   "source": [
    "### Detecting Change in Downloads\n",
    "Let's say that we want to detect an increase of 50 downloads per day (up to 570 per day, or a .175 rate). How many days of data would we need to collect in order to get enough visitors to detect this new rate at an overall 5% Type I error rate and at 80% power?"
   ]
  },
  {
   "cell_type": "code",
   "execution_count": 24,
   "metadata": {},
   "outputs": [],
   "source": [
    "# write function that calculates total observations and days to run experiment\n",
    "\n",
    "def experiment_days(p_null, p_alt, alpha = 0.05, beta = 0.2, obs_per_day = 3250):\n",
    "    \"\"\"\n",
    "    This function calculates the number of days required to run an A/B test\n",
    "\n",
    "    Parameters:\n",
    "    null (float): the conversion rate under the null hypothesis\n",
    "    alt (float): the conversion rate under the alternative hypothesis\n",
    "    alpha (float): the significance level\n",
    "    beta (float): the power of the test\n",
    "    obs (int): the number of observations per day\n",
    "\n",
    "    Returns:\n",
    "    int: the number of days required to run the experiment\n",
    "    int: the total number of observations required to run the experiment\n",
    "\n",
    "    \"\"\"\n",
    "    import numpy as np\n",
    "    from scipy import stats\n",
    "\n",
    "    # defin parameters\n",
    "    p_null = p_null\n",
    "    p_alt = p_alt\n",
    "    alpha = alpha\n",
    "    beta = beta\n",
    "    daily_visitors = obs_per_day\n",
    "\n",
    "    # Adjust alpha for Bonferroni correction\n",
    "    alpha = alpha / 2\n",
    "\n",
    "    # Calculate Z-scores\n",
    "    z_null = stats.norm.ppf(1 - alpha)\n",
    "    z_alt = stats.norm.ppf(beta)\n",
    "\n",
    "    # Calculate standard deviations\n",
    "    sd_null = np.sqrt(p_null * (1 - p_null) + p_null * (1 - p_null))\n",
    "    sd_alt = np.sqrt(p_null * (1 - p_null) + p_alt * (1 - p_alt))\n",
    "\n",
    "    # Calculate effect size\n",
    "    effect_size = p_alt - p_null\n",
    "\n",
    "    # Calculate the sample size required for each group\n",
    "    n_per_group = ((z_null * sd_null - z_alt * sd_alt) / effect_size) ** 2\n",
    "\n",
    "    # Total number of samples needed\n",
    "    total_samples = np.ceil(n_per_group) * 2\n",
    "\n",
    "    # Calculate the number of days required\n",
    "    days_required = total_samples / daily_visitors\n",
    "\n",
    "    print(f\"Number of samples needed: {total_samples}\")\n",
    "    print(f\"Number of days required: {np.ceil(days_required)}\")\n",
    "\n",
    "    return total_samples, days_required\n",
    "    "
   ]
  },
  {
   "cell_type": "markdown",
   "metadata": {},
   "source": [
    "### Detecting Change in Licenses"
   ]
  },
  {
   "cell_type": "code",
   "execution_count": 23,
   "metadata": {},
   "outputs": [
    {
     "name": "stdout",
     "output_type": "stream",
     "text": [
      "Number of samples needed: 69860.0\n",
      "Number of days required: 22.0\n"
     ]
    }
   ],
   "source": [
    "# define parameters\n",
    "null = 0.02 # conversion rate under the null hypothesis\n",
    "alt = 0.023 # conversion rate under the alternative hypothesis\n",
    "alpha = 0.05 # significance level\n",
    "beta = 0.2 # power of the test\n",
    "obs = 3250 # number of observations per day\n",
    "\n",
    "# run function\n",
    "samples, days = experiment_days(null, alt, alpha, beta, obs)"
   ]
  },
  {
   "cell_type": "markdown",
   "metadata": {},
   "source": [
    "### Detect Statistical Difference in Invariant Metric"
   ]
  },
  {
   "cell_type": "markdown",
   "metadata": {},
   "source": [
    "Invariant Metric\n",
    "First, we should check our invariant metric, the number of cookies assigned to each group. If there is a statistically significant difference detected, then we shouldn't move on to the evaluation metrics right away. We'd need to first dig deeper to see if there was an issue with the group assignment procedure, or if there is something about the manipulation that affected the number of cookies observed before we feel secure about analyzing and interpreting the evaluation metrics."
   ]
  },
  {
   "cell_type": "markdown",
   "metadata": {},
   "source": [
    "### Import the data"
   ]
  },
  {
   "cell_type": "code",
   "execution_count": 30,
   "metadata": {},
   "outputs": [
    {
     "data": {
      "text/html": [
       "<div>\n",
       "<style scoped>\n",
       "    .dataframe tbody tr th:only-of-type {\n",
       "        vertical-align: middle;\n",
       "    }\n",
       "\n",
       "    .dataframe tbody tr th {\n",
       "        vertical-align: top;\n",
       "    }\n",
       "\n",
       "    .dataframe thead th {\n",
       "        text-align: right;\n",
       "    }\n",
       "</style>\n",
       "<table border=\"1\" class=\"dataframe\">\n",
       "  <thead>\n",
       "    <tr style=\"text-align: right;\">\n",
       "      <th></th>\n",
       "      <th>Day</th>\n",
       "      <th>Control Cookies</th>\n",
       "      <th>Control Downloads</th>\n",
       "      <th>Control Licenses</th>\n",
       "      <th>Experiment Cookies</th>\n",
       "      <th>Experiment Downloads</th>\n",
       "      <th>Experiment Licenses</th>\n",
       "    </tr>\n",
       "  </thead>\n",
       "  <tbody>\n",
       "    <tr>\n",
       "      <th>22</th>\n",
       "      <td>23</td>\n",
       "      <td>1631</td>\n",
       "      <td>249</td>\n",
       "      <td>26</td>\n",
       "      <td>1517</td>\n",
       "      <td>272</td>\n",
       "      <td>35</td>\n",
       "    </tr>\n",
       "    <tr>\n",
       "      <th>6</th>\n",
       "      <td>7</td>\n",
       "      <td>1534</td>\n",
       "      <td>262</td>\n",
       "      <td>5</td>\n",
       "      <td>1555</td>\n",
       "      <td>276</td>\n",
       "      <td>8</td>\n",
       "    </tr>\n",
       "    <tr>\n",
       "      <th>23</th>\n",
       "      <td>24</td>\n",
       "      <td>1489</td>\n",
       "      <td>241</td>\n",
       "      <td>29</td>\n",
       "      <td>1466</td>\n",
       "      <td>279</td>\n",
       "      <td>31</td>\n",
       "    </tr>\n",
       "  </tbody>\n",
       "</table>\n",
       "</div>"
      ],
      "text/plain": [
       "    Day  Control Cookies  Control Downloads  Control Licenses  \\\n",
       "22   23             1631                249                26   \n",
       "6     7             1534                262                 5   \n",
       "23   24             1489                241                29   \n",
       "\n",
       "    Experiment Cookies  Experiment Downloads  Experiment Licenses  \n",
       "22                1517                   272                   35  \n",
       "6                 1555                   276                    8  \n",
       "23                1466                   279                   31  "
      ]
     },
     "execution_count": 30,
     "metadata": {},
     "output_type": "execute_result"
    }
   ],
   "source": [
    "import pandas as pd\n",
    "\n",
    "# read in the CSV in the appropriate file directory\n",
    "data = pd.read_csv('../case_study/homepage-experiment-data.csv')\n",
    "\n",
    "# preview 3 rows of sample data\n",
    "data.sample(3)"
   ]
  },
  {
   "cell_type": "markdown",
   "metadata": {},
   "source": [
    "### What is the p-value for the test on the number of cookies assigned to each group?"
   ]
  },
  {
   "cell_type": "markdown",
   "metadata": {},
   "source": [
    "We will need to create a one-sample z-test on proportions.  This type of test is used when you want to know whether your sample proportion is significantly different from a known population proportion.  In this case, we want to know if the proportion of cookies assigned to each group is significantly different from 0.5.  We will use a one-sample z-test on proportions to test this."
   ]
  },
  {
   "cell_type": "code",
   "execution_count": 78,
   "metadata": {},
   "outputs": [
    {
     "name": "stdout",
     "output_type": "stream",
     "text": [
      "Number of observations: 94197\n",
      "Total Control Cookies: 46851\n",
      "Total Experiment Cookies: 47346\n"
     ]
    }
   ],
   "source": [
    "# define parameters for the test\n",
    "n_control = data['Control Cookies'].sum()\n",
    "n_experiment = data['Experiment Cookies'].sum()\n",
    "n_obs = n_control + n_experiment\n",
    "\n",
    "# sanity check levels before test\n",
    "print(f\"Number of observations: {n_obs}\")\n",
    "print(f\"Total Control Cookies: {n_control}\")\n",
    "print(f\"Total Experiment Cookies: {n_experiment}\")"
   ]
  },
  {
   "cell_type": "code",
   "execution_count": 79,
   "metadata": {},
   "outputs": [],
   "source": [
    "# create reusable function\n",
    "def one_sample_ztest(p,n_obs,n_control):\n",
    "    \"\"\"\n",
    "    This function calculates the Z-score and p-value for a one-sample z-test\n",
    "\n",
    "    Parameters:\n",
    "    p (float): the conversion rate under the null hypothesis\n",
    "    n_obs (int): the total number of observations\n",
    "    n_control (int): the total number of control group observations\n",
    "\n",
    "    Returns:\n",
    "    float: the Z-score\n",
    "    float: the p-value\n",
    "\n",
    "    \"\"\"\n",
    "    import numpy as np\n",
    "    from scipy import stats\n",
    "\n",
    "    # Calculate the standard deviation\n",
    "    sd = np.sqrt(p * (1 - p) * n_obs)\n",
    "\n",
    "    # Calculate the Z-score\n",
    "    z = ((n_control + 0.5) - p * n_obs) / sd\n",
    "\n",
    "    # Calculate the p-value\n",
    "    p_value = 2 * stats.norm.cdf(z)\n",
    "\n",
    "    return z, p_value"
   ]
  },
  {
   "cell_type": "code",
   "execution_count": 80,
   "metadata": {},
   "outputs": [
    {
     "name": "stdout",
     "output_type": "stream",
     "text": [
      "Z-score: -1.6095646049678511\n",
      "P-value: 0.10749294050130412\n"
     ]
    }
   ],
   "source": [
    "# run test\n",
    "z_score, p_value = one_sample_ztest(null, n_obs, n_control)\n",
    "\n",
    "# print results\n",
    "print(f\"Z-score: {z_score}\")\n",
    "print(f\"P-value: {p_value}\")"
   ]
  },
  {
   "cell_type": "markdown",
   "metadata": {},
   "source": [
    "### What is the p-value for the test on the download rate between groups?"
   ]
  },
  {
   "cell_type": "markdown",
   "metadata": {},
   "source": [
    "We will need to execute a two proportions z test, first we will define parameters for the test, then create a reusable function"
   ]
  },
  {
   "cell_type": "code",
   "execution_count": 84,
   "metadata": {},
   "outputs": [],
   "source": [
    "# define parameters for the test\n",
    "\n",
    "# get the counts for cookies in the control and experiment groups\n",
    "control_cookies = data['Control Cookies'].sum()\n",
    "experiment_cookies = data['Experiment Cookies'].sum()\n",
    "total_cookies = control_cookies + experiment_cookies\n",
    "\n",
    "# get the counts for downloads in the control and experiment groups\n",
    "control_downloads = data['Control Downloads'].sum()\n",
    "experiment_downloads = data['Experiment Downloads'].sum()\n",
    "total_downloads = control_downloads + experiment_downloads"
   ]
  },
  {
   "cell_type": "code",
   "execution_count": 95,
   "metadata": {},
   "outputs": [],
   "source": [
    "# create resusable function for tests\n",
    "def two_proportion_z_test(control_downloads, experiment_downloads, control_cookies, experiment_cookies):\n",
    "    \"\"\"\n",
    "    This function calculates the Z-score and p-value for a two-proportion z-test\n",
    "\n",
    "    Parameters:\n",
    "    control_downloads (int): the number of downloads in the control group\n",
    "    experiment_downloads (int): the number of downloads in the experiment group\n",
    "    control_cookies (int): the number of cookies in the control group\n",
    "    experiment_cookies (int): the number of cookies in the experiment group\n",
    "\n",
    "    Returns:\n",
    "    float: the Z-score\n",
    "    float: the p-value\n",
    "\n",
    "    \"\"\"\n",
    "    # import required libraries\n",
    "    from scipy import stats\n",
    "    import numpy as np\n",
    "\n",
    "\n",
    "    # calculate the overall conversion rate\n",
    "    p = (control_downloads + experiment_downloads) / (control_cookies + experiment_cookies)\n",
    "\n",
    "\n",
    "    # calculate the Z-score\n",
    "    z = (experiment_downloads - p * experiment_cookies) / np.sqrt(p * (1 - p) * experiment_cookies)\n",
    "    \n",
    "    # calculate the p-value\n",
    "    p_value = 1 - stats.norm.cdf(z)\n",
    "\n",
    "    print(f\"Z-score: {z}\")\n",
    "    print(f\"P-value: {p_value}\")\n",
    "\n",
    "    return z, p_value"
   ]
  },
  {
   "cell_type": "code",
   "execution_count": 96,
   "metadata": {},
   "outputs": [
    {
     "name": "stdout",
     "output_type": "stream",
     "text": [
      "Z-score: 5.5508773906714515\n",
      "P-value: 1.4211969712185635e-08\n"
     ]
    }
   ],
   "source": [
    "# execute function\n",
    "z, p_value = two_proportion_z_test(control_downloads, experiment_downloads, control_cookies, experiment_cookies)"
   ]
  },
  {
   "cell_type": "markdown",
   "metadata": {},
   "source": [
    "### Checking the Evaluation Metric II\n",
    "What is the p-value for the test on the license purchasing rate between groups?"
   ]
  },
  {
   "cell_type": "markdown",
   "metadata": {},
   "source": [
    "First we will define parameters for the test, then we will create a reusable function\n",
    "to execute"
   ]
  },
  {
   "cell_type": "code",
   "execution_count": 97,
   "metadata": {},
   "outputs": [
    {
     "name": "stdout",
     "output_type": "stream",
     "text": [
      "Conversion rate for control group: 0.021\n",
      "Conversion rate for experiment group: 0.021\n"
     ]
    }
   ],
   "source": [
    "# define parameters for the test\n",
    "\n",
    "# number of observations in control group (21 days of 28)\n",
    "n_control_21 = data.query('Day < 22')['Control Cookies'].sum()\n",
    "\n",
    "# number of conversions for licenses in control group\n",
    "n_control_licenses = data['Control Licenses'].sum()\n",
    "\n",
    "# conversion rate for licenses in control group\n",
    "p_control_licenses = n_control_licenses / n_control_21\n",
    "\n",
    "# number of observations in experiment group (21 days of 28)\n",
    "n_experiment_21 = data.query('Day < 22')['Experiment Cookies'].sum()\n",
    "\n",
    "# number of conversions for licenses in experiment group\n",
    "n_experiment_licenses = data['Experiment Licenses'].sum()\n",
    "\n",
    "# conversion rate for licenses in experiment group\n",
    "p_experiment_licenses = n_experiment_licenses / n_experiment_21\n",
    "\n",
    "print(f\"Conversion rate for control group: {p_control_licenses :.3f}\")\n",
    "print(f\"Conversion rate for experiment group: {p_experiment_licenses :.3f}\")\n"
   ]
  },
  {
   "cell_type": "code",
   "execution_count": 98,
   "metadata": {},
   "outputs": [
    {
     "name": "stdout",
     "output_type": "stream",
     "text": [
      "Z-score: 0.1821302274513653\n",
      "P-value: 0.4277402636830543\n"
     ]
    }
   ],
   "source": [
    "# execute two proportion z-test\n",
    "z, p_value = two_proportion_z_test(n_control_licenses, n_experiment_licenses, n_control_21, n_experiment_21)"
   ]
  },
  {
   "cell_type": "markdown",
   "metadata": {},
   "source": [
    "### The next function calculates the standard error differently.  There is a small difference in output between the two functions"
   ]
  },
  {
   "cell_type": "code",
   "execution_count": 102,
   "metadata": {},
   "outputs": [],
   "source": [
    "# create reusable function for tests\n",
    "def ztest(n_control_licenses, n_experiment_licenses, n_control_21, n_experiment_21):\n",
    "    \"\"\"\n",
    "    This function calculates the Z-score and p-value for a two-proportion z-test\n",
    "\n",
    "    Parameters:\n",
    "    control_downloads (int): the number of downloads in the control group\n",
    "    experiment_downloads (int): the number of downloads in the experiment group\n",
    "    control_cookies (int): the number of cookies in the control group\n",
    "    experiment_cookies (int): the number of cookies in the experiment group\n",
    "\n",
    "    Returns:\n",
    "    float: the Z-score\n",
    "    float: the p-value\n",
    "\n",
    "    \"\"\"\n",
    "    # import required libraries\n",
    "    from scipy import stats\n",
    "    import numpy as np\n",
    "\n",
    "\n",
    "    # calculate the overall conversion rate\n",
    "    p = (n_control_licenses + n_experiment_licenses) / (n_control_21 + n_experiment_21)\n",
    "\n",
    "    # calculate the standard error\n",
    "    se = np.sqrt(p * (1 - p) * (1 / n_control_21 + 1 / n_experiment_21))\n",
    "\n",
    "    # caluculate the Z-score\n",
    "    z = (p_experiment_licenses - p_control_licenses) / se\n",
    "\n",
    "    # calculate the p-value\n",
    "    p_value = 1 - stats.norm.cdf(z)\n",
    "\n",
    "    print(f\"Z-score: {z}\")\n",
    "    print(f\"P-value: {p_value}\")\n",
    "\n",
    "    return z, p_value"
   ]
  },
  {
   "cell_type": "code",
   "execution_count": 104,
   "metadata": {},
   "outputs": [
    {
     "name": "stdout",
     "output_type": "stream",
     "text": [
      "Z-score: 0.2586750111658684\n",
      "P-value: 0.3979430008399871\n"
     ]
    }
   ],
   "source": [
    "# execute function\n",
    "z, p_value = ztest(n_control_licenses, n_experiment_licenses, n_control_21, n_experiment_21)\n"
   ]
  }
 ],
 "metadata": {
  "kernelspec": {
   "display_name": "dev",
   "language": "python",
   "name": "python3"
  },
  "language_info": {
   "codemirror_mode": {
    "name": "ipython",
    "version": 3
   },
   "file_extension": ".py",
   "mimetype": "text/x-python",
   "name": "python",
   "nbconvert_exporter": "python",
   "pygments_lexer": "ipython3",
   "version": "3.11.8"
  }
 },
 "nbformat": 4,
 "nbformat_minor": 2
}
